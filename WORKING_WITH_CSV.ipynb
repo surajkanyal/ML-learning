{
 "cells": [
  {
   "cell_type": "code",
   "execution_count": 1,
   "id": "1368d895",
   "metadata": {},
   "outputs": [],
   "source": [
    "#importing library\n",
    "import pandas as pd\n",
    "# df = pd.read_csv('local.csv')  you can open file locally if present"
   ]
  },
  {
   "cell_type": "markdown",
   "id": "29169208",
   "metadata": {},
   "source": [
    "###### Opening a csv file from an url"
   ]
  },
  {
   "cell_type": "code",
   "execution_count": null,
   "id": "f47a6418",
   "metadata": {},
   "outputs": [],
   "source": [
    "# import requests\n",
    "# from io import StringIO\n",
    "\n",
    "# url = \"https://raw.githubusercontent.com/cs109/2014_data/master/countries.csv\"\n",
    "# headers = {\"User-Agent\": \"Mozilla/5.0 (Macintosh; Intel Mac OS X 10.14; rv:66.0) Gecko/20100101 Firefox/66.0\"}\n",
    "# req = requests.get(url, headers=headers)\n",
    "# data = StringIO(req.text)\n",
    "\n",
    "# pd.read_csv(data)"
   ]
  }
 ],
 "metadata": {
  "kernelspec": {
   "display_name": "Python 3 (ipykernel)",
   "language": "python",
   "name": "python3"
  },
  "language_info": {
   "codemirror_mode": {
    "name": "ipython",
    "version": 3
   },
   "file_extension": ".py",
   "mimetype": "text/x-python",
   "name": "python",
   "nbconvert_exporter": "python",
   "pygments_lexer": "ipython3",
   "version": "3.11.0"
  }
 },
 "nbformat": 4,
 "nbformat_minor": 5
}
