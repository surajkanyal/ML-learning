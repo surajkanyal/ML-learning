{
 "cells": [
  {
   "cell_type": "markdown",
   "id": "cedfdb75",
   "metadata": {},
   "source": [
    "## Working with json/sql"
   ]
  },
  {
   "cell_type": "code",
   "execution_count": 1,
   "id": "6d9cc3b0",
   "metadata": {},
   "outputs": [],
   "source": [
    "import pandas as pd\n",
    "# use read_json to read file like\n",
    "# df = pd.read_csv(\"filename.json\")"
   ]
  },
  {
   "cell_type": "code",
   "execution_count": 6,
   "id": "a54200b3",
   "metadata": {},
   "outputs": [],
   "source": [
    "# reading sql file\n",
    "import psycopg2\n",
    "conn = psycopg2.connect(dbname = 'postgres',user = 'postgres',password = \"041123\" ,host = 'localhost')\n",
    "conn.close()\n"
   ]
  }
 ],
 "metadata": {
  "kernelspec": {
   "display_name": "Python 3 (ipykernel)",
   "language": "python",
   "name": "python3"
  },
  "language_info": {
   "codemirror_mode": {
    "name": "ipython",
    "version": 3
   },
   "file_extension": ".py",
   "mimetype": "text/x-python",
   "name": "python",
   "nbconvert_exporter": "python",
   "pygments_lexer": "ipython3",
   "version": "3.11.0"
  }
 },
 "nbformat": 4,
 "nbformat_minor": 5
}
